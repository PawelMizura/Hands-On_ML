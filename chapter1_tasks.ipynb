{
 "cells": [
  {
   "cell_type": "markdown",
   "id": "ce5df94a",
   "metadata": {},
   "source": [
    "# Chapter 1 Exercises"
   ]
  },
  {
   "cell_type": "markdown",
   "id": "2e80a25a",
   "metadata": {},
   "source": [
    "### How would you define machine learning?\n",
    "\n",
    "Machine learning is a way to solve various tasks and problems by computers, without explicitely coding the solutions. Machine learning enables the system to adapt and overcome new problems and situations, based on knowledge gained during training."
   ]
  },
  {
   "cell_type": "markdown",
   "id": "5a7f0d48",
   "metadata": {},
   "source": [
    "### Can you name 4 types of application where it shines?\n",
    "\n",
    "1. Aerial image processing and recognition\n",
    "2. Spam filtering\n",
    "3. Fraud detection (based on unnatural behaviour)\n",
    "4. Natural language processing"
   ]
  },
  {
   "cell_type": "markdown",
   "id": "d78ab541",
   "metadata": {},
   "source": [
    "### What is a labeled training set?\n",
    "\n",
    "It's a set of data where the system is explicitely given a label for each data. We want it to exactly know that this is a square and this is a triangle therefore we add labels on the data."
   ]
  },
  {
   "cell_type": "markdown",
   "id": "468307de",
   "metadata": {},
   "source": [
    "### What are the 2 most common supervised tasks?\n",
    "\n",
    "Classification and regression"
   ]
  },
  {
   "cell_type": "markdown",
   "id": "c8078ec0",
   "metadata": {},
   "source": [
    "### What are the 4 common unsupervised tasks?\n",
    "\n",
    "Clustering algorithm tasks, visualization tasks, anomaly detection, feature extraction"
   ]
  },
  {
   "cell_type": "markdown",
   "id": "ffcbe3c0",
   "metadata": {},
   "source": [
    "### What type of algorithm would you use to allow a robot to walk in a various unknown terrains?\n",
    "\n",
    "Reinforcement learning"
   ]
  },
  {
   "cell_type": "markdown",
   "id": "226f88cc",
   "metadata": {},
   "source": [
    "### What type of algorithm would you use to segemnt your customers into multiple groups?\n",
    "\n",
    "Unsupervised learning - clustering algortithms."
   ]
  },
  {
   "cell_type": "markdown",
   "id": "0c3160ef",
   "metadata": {},
   "source": [
    "### Would you frame the problem of spam detection as a supervised learning problem or an unsupervised learning problem?\n",
    "\n",
    "Supervised, because we show the system spam emails and flag them as spam."
   ]
  },
  {
   "cell_type": "markdown",
   "id": "96b24772",
   "metadata": {},
   "source": [
    "### What is an online learning system?\n",
    "\n",
    "System that is trained incrementally by feeding it data sequentially in mini-batches. Thanks to this, system can learn new data on the go, and is not prone to becoming outdated as time flies."
   ]
  },
  {
   "cell_type": "markdown",
   "id": "c252e728",
   "metadata": {},
   "source": [
    "### What is out-of-core learning?\n",
    "\n",
    "Teachnique used to train models on datasets that are too big to fit into computer's memory. The data is loaded and processed in small batches, thus allowing model to learn the whole data without needing it to be in the memory at once."
   ]
  },
  {
   "cell_type": "markdown",
   "id": "a55c8025",
   "metadata": {},
   "source": [
    "### What type of algorithm relies on similarity measure to make predictions?\n",
    "\n",
    "Instance-Based"
   ]
  },
  {
   "cell_type": "markdown",
   "id": "cf151844",
   "metadata": {},
   "source": [
    "### What is the difference between a model parameter and a model hyperparameter?\n",
    "\n",
    "A model parameter is a variable that is learned by the model during training.\n",
    "\n",
    "A model hyperparameter is a configuration parameter which human sets before training, that controls the learning rate of the model."
   ]
  },
  {
   "cell_type": "markdown",
   "id": "0f8f38ff",
   "metadata": {},
   "source": [
    "### What do model-based algorithms search for? What is the most common strategy they use to succeed? How they make predictions?\n",
    "\n",
    "Model-based algorithms search for the best parameters that fit the training data. They usually define a performance measure (like cost or loss function) and then optimize the model parameters to have the minimum loss function. After training, they make predictions by applying the learned model to new, unseen data."
   ]
  },
  {
   "cell_type": "markdown",
   "id": "ee58a55b",
   "metadata": {},
   "source": [
    "### Can you name 4 of the main challenges in machine learning?\n",
    "\n",
    "1. Overfitting\n",
    "2. Underfitting\n",
    "3. Training data is not cleaned (noisy and biased)\n",
    "4. Irrelevant features of data"
   ]
  },
  {
   "cell_type": "markdown",
   "id": "2d3e10df",
   "metadata": {},
   "source": [
    "### If your model performs great on the training data but generalizes poorly to new instances, what is happening? Can you name 3 possible solutions?\n",
    "\n",
    "The model is overfitting. Solution would be to: simplify the model by e.g. selecting fewer parameters, gather more training data, reduce the noise in the training data"
   ]
  },
  {
   "cell_type": "markdown",
   "id": "aff5165e",
   "metadata": {},
   "source": [
    "### What is a test set and why would you want to use it?\n",
    "\n",
    "Test set is part of the data that was separated at the beginning and was not used to train the model (it's new for the trained model). It's used since you don't want to test the model on production :)"
   ]
  },
  {
   "cell_type": "markdown",
   "id": "63e038f8",
   "metadata": {},
   "source": [
    "### What is a validation set?\n",
    "\n",
    "A **validation set** is a portion of the data set aside during training to evaluate the model's performance and tune its hyperparameters. It helps in selecting the best model and preventing overfitting. In other words it's a test set but for the testing phase not for production phase.\n",
    "\n",
    "A **test set** is a separate portion of the data that is only used after the model has been trained and validated. It provides an unbiased evaluation of the final model's performance on new, unseen data.\n",
    "\n",
    "**Difference:**  \n",
    "- The validation set is used during model development for tuning and selection.  \n",
    "- The test set is used only at the end to assess the model's generalization ability."
   ]
  },
  {
   "cell_type": "markdown",
   "id": "ef1e01f2",
   "metadata": {},
   "source": [
    "### What is a train-dev set, when do you need it, and how do you use it?\n",
    "\n",
    "You need it when you don't have much good-quality data to train the model. So first you train the model on a data which is not your ideal data but is widely accessible, then you test this model on part of this data (which wasn't used in training of course, but belongs to the data widely accessible) and check if your model isn't overfitted and is properly trained. This is the train-dev. After that you can train this model on your best data."
   ]
  },
  {
   "cell_type": "markdown",
   "id": "22546bae",
   "metadata": {},
   "source": [
    "### What can go wrong if you tune hyperparameters using the test set?\n",
    "\n",
    "Data can be overfitted. In other words, the model can perform well on test set, but poor on validation set due to failing to generalize to unseen data."
   ]
  }
 ],
 "metadata": {
  "kernelspec": {
   "display_name": ".venv",
   "language": "python",
   "name": "python3"
  },
  "language_info": {
   "name": "python",
   "version": "3.13.1"
  }
 },
 "nbformat": 4,
 "nbformat_minor": 5
}
